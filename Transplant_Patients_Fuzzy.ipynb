{
  "nbformat": 4,
  "nbformat_minor": 0,
  "metadata": {
    "colab": {
      "provenance": [],
      "authorship_tag": "ABX9TyPD8sfyaUg73faU3HKCvPCL",
      "include_colab_link": true
    },
    "kernelspec": {
      "name": "python3",
      "display_name": "Python 3"
    },
    "language_info": {
      "name": "python"
    }
  },
  "cells": [
    {
      "cell_type": "markdown",
      "metadata": {
        "id": "view-in-github",
        "colab_type": "text"
      },
      "source": [
        "<a href=\"https://colab.research.google.com/github/Iambinhh/Transplant_Patient/blob/main/Transplant_Patients_Fuzzy.ipynb\" target=\"_parent\"><img src=\"https://colab.research.google.com/assets/colab-badge.svg\" alt=\"Open In Colab\"/></a>"
      ]
    },
    {
      "cell_type": "code",
      "execution_count": null,
      "metadata": {
        "colab": {
          "base_uri": "https://localhost:8080/"
        },
        "id": "IxSaexKPZ9IQ",
        "outputId": "885404a3-9682-49a6-d318-d0d1d376d01d"
      },
      "outputs": [
        {
          "output_type": "stream",
          "name": "stdout",
          "text": [
            "Looking in indexes: https://pypi.org/simple, https://us-python.pkg.dev/colab-wheels/public/simple/\n",
            "Collecting scikit-fuzzy\n",
            "  Downloading scikit-fuzzy-0.4.2.tar.gz (993 kB)\n",
            "\u001b[2K     \u001b[90m━━━━━━━━━━━━━━━━━━━━━━━━━━━━━━━━━━━━━━\u001b[0m \u001b[32m994.0/994.0 KB\u001b[0m \u001b[31m11.5 MB/s\u001b[0m eta \u001b[36m0:00:00\u001b[0m\n",
            "\u001b[?25h  Preparing metadata (setup.py) ... \u001b[?25l\u001b[?25hdone\n",
            "Requirement already satisfied: numpy>=1.6.0 in /usr/local/lib/python3.8/dist-packages (from scikit-fuzzy) (1.22.4)\n",
            "Requirement already satisfied: scipy>=0.9.0 in /usr/local/lib/python3.8/dist-packages (from scikit-fuzzy) (1.10.1)\n",
            "Requirement already satisfied: networkx>=1.9.0 in /usr/local/lib/python3.8/dist-packages (from scikit-fuzzy) (3.0)\n",
            "Building wheels for collected packages: scikit-fuzzy\n",
            "  Building wheel for scikit-fuzzy (setup.py) ... \u001b[?25l\u001b[?25hdone\n",
            "  Created wheel for scikit-fuzzy: filename=scikit_fuzzy-0.4.2-py3-none-any.whl size=894088 sha256=5e7eb74722fc8212e257267246d476aa2844b3efe5d77ffd104ef57de3a5056c\n",
            "  Stored in directory: /root/.cache/pip/wheels/2c/04/80/7eefb1a2de7d36aefd06432fab2a1486caf0a0596a7067391a\n",
            "Successfully built scikit-fuzzy\n",
            "Installing collected packages: scikit-fuzzy\n",
            "Successfully installed scikit-fuzzy-0.4.2\n"
          ]
        }
      ],
      "source": [
        "pip install scikit-fuzzy\n"
      ]
    },
    {
      "cell_type": "code",
      "source": [
        "#ProtFIS\n",
        "from skfuzzy.control.controlsystem import Antecedent\n",
        "import numpy as np\n",
        "import  skfuzzy as fuzz\n",
        "from skfuzzy import control as ctrl\n",
        "\n",
        "# Với biến đầu ra là proteinuria chú ý sử dụng: Consequent\n",
        "\n",
        "glycaemia   = ctrl.Antecedent(np.arange(0,151,1),'glycaemia')\n",
        "sirolimus   = ctrl.Antecedent(np.arange(0,21,1),'sirolimus')\n",
        "\n",
        "proteinuria = ctrl.Consequent(np.arange(0,3501,1),'proteinuria')#the output result\n",
        "\n",
        "# Tạo hàm liên thuộc\n",
        "# Lấy biến glycaemia với normal --> good, impaired --> alarm,  diabetes --> danger với hàm trimf (universe) hàm phổ quát lấy giá trị mảng food để truyền vào\n",
        "glycaemia['good'] = fuzz.trapmf(glycaemia.universe,[0,70,80,100])\n",
        "glycaemia['alarm'] = fuzz.trimf(glycaemia.universe,[101,105,125])\n",
        "glycaemia['danger'] = fuzz.trapmf(glycaemia.universe,[125,135,150,150])\n",
        "\n",
        "# Lấy biến sirolimus với alarm down , sufficient --> suff,  good, alarm up, danger với hàm trimf (universe) hàm phổ quát lấy giá trị mảng food để truyền vào\n",
        "sirolimus['alarm down'] = fuzz.trapmf(sirolimus.universe,[0, 0, 3, 5])\n",
        "sirolimus['suff'] = fuzz.trimf(sirolimus.universe,[4, 5, 7])\n",
        "sirolimus['good'] = fuzz.trimf(sirolimus.universe,[6, 9, 12])\n",
        "sirolimus['alarm up'] = fuzz.trimf(sirolimus.universe,[11, 12 ,14])\n",
        "sirolimus['danger'] = fuzz.trapmf(sirolimus.universe,[13, 16, 20, 20])\n",
        "\n",
        "# Lấy biến proteinuria với physiological --> alarm , light, moderate,  severe --> suff, nephrotic --> danger với hàm trimf (universe) hàm phổ quát lấy giá trị mảng food để truyền vào\n",
        "# Đổi đơn vị mg sang g\n",
        "proteinuria['good'] = fuzz.trapmf(proteinuria.universe,[0, 0, 125, 150])\n",
        "proteinuria['suff'] = fuzz.trimf(proteinuria.universe,[150, 350, 500])\n",
        "proteinuria['alterate'] = fuzz.trimf(proteinuria.universe,[500, 800, 1000])\n",
        "proteinuria['alarm'] = fuzz.trimf(proteinuria.universe,[1000, 2100, 3000])\n",
        "proteinuria['danger'] = fuzz.trapmf(proteinuria.universe,[2800, 3000, 3500, 3500])\n",
        "\n",
        "glycaemia.view()\n",
        "sirolimus.view()\n",
        "proteinuria.view()\n",
        "\n",
        "# Tạo luật\n",
        "rule1 = ctrl.Rule(glycaemia['good'] & sirolimus['good'] , proteinuria['good'])\n",
        "rule2 = ctrl.Rule(glycaemia['danger'] & sirolimus['danger'] , proteinuria['danger'])\n",
        "rule3 = ctrl.Rule(glycaemia['good'] & sirolimus['suff'] , proteinuria['suff'])\n",
        "rule4 = ctrl.Rule(glycaemia['alarm'] & sirolimus['alarm up'] , proteinuria['alarm'])\n",
        "rule5 = ctrl.Rule(glycaemia['alarm'] & sirolimus['suff'] , proteinuria['alterate'])\n",
        "rule6 = ctrl.Rule(glycaemia['good'] & sirolimus['alarm up'] , proteinuria['alterate'])\n",
        "rule7 = ctrl.Rule(glycaemia['alarm'] & sirolimus['good'] , proteinuria['suff'])\n",
        "rule8 = ctrl.Rule(glycaemia['good'] & sirolimus['alarm down'] , proteinuria['suff'])\n",
        "\n",
        "rule9 = ctrl.Rule(glycaemia['alarm'] & sirolimus['alarm down'] , proteinuria['suff'])\n",
        "rule10 = ctrl.Rule(glycaemia['danger'] & sirolimus['alarm down'] , proteinuria['alterate'])\n",
        "rule11 = ctrl.Rule(glycaemia['danger'] & sirolimus['suff'] , proteinuria['alarm'])\n",
        "rule12= ctrl.Rule(glycaemia['danger'] & sirolimus['good'] , proteinuria['suff'])\n",
        "rule13= ctrl.Rule(glycaemia['danger'] & sirolimus['alarm up'] , proteinuria['danger'])\n",
        "rule14= ctrl.Rule(glycaemia['good'] & sirolimus['danger'] , proteinuria['suff'])\n",
        "rule15= ctrl.Rule(glycaemia['alarm'] & sirolimus['danger'] , proteinuria['alarm'])\n",
        "# Thu thập dữ liệu ControlSystem\n",
        "# Học dữ liệu SystemSimulation --> Truyền giá trị (đọc từ cảm biến)(thường đưa vào vòng lặp để quét)-->compute để tính toán\n",
        "tipping_ctrl = ctrl.ControlSystem([rule1, rule2, rule3, rule4, rule5, rule6, rule7, rule8,rule9,rule10,rule11,rule12,rule13,rule14,rule15])\n",
        "tipping = ctrl.ControlSystemSimulation(tipping_ctrl)\n",
        "\n",
        "gly_input=float(input(\"Enter the glycaemia:\"))\n",
        "while gly_input>150 or gly_input<0:\n",
        "  try:\n",
        "   gly_input= float(input(\"Please re-enter the value: \"))\n",
        "  except ValueError:\n",
        "    print(\"Not in range or wrongd datatype\")\n",
        "\n",
        "blood_level_input=float(input(\"Enter your blood-level: \"))\n",
        "while blood_level_input>21 or blood_level_input<0:\n",
        "  try:\n",
        "    blood_level_input= float(input(\"Please re-enter the value: \"))\n",
        "  except ValueError:\n",
        "    print(\"Not in range or wrong datatype\")\n",
        "\n",
        "tipping.input['glycaemia'] = gly_input\n",
        "tipping.input['sirolimus'] = blood_level_input\n",
        "tipping.compute()\n",
        "proteinuria.view(sim = tipping)\n",
        "\n",
        "#printing_out the values\n",
        "print(\"The protenuria is between in 150 and 3000\")\n",
        "print(tipping.output[\"proteinuria\"])\n",
        "if (tipping.output[\"proteinuria\"]<150):\n",
        "  print(\"Physiological protein\")\n",
        "if (tipping.output[\"proteinuria\"]>150 and tipping.output[\"proteinuria\"]<500):\n",
        "  print(\"Light proteinuria\")\n",
        "if (tipping.output[\"proteinuria\"]>500 and tipping.output[\"proteinuria\"]<1000):\n",
        "  print(\"Moderate proteinuria\")\n",
        "if (tipping.output[\"proteinuria\"]>1000 and tipping.output[\"proteinuria\"]<3000):\n",
        "  print(\"Serve proteinuria\")\n",
        "else:\n",
        "  print(\"Nephrotic proteinuria\")\n"
      ],
      "metadata": {
        "id": "7oSUKp3oaKaf"
      },
      "execution_count": null,
      "outputs": []
    }
  ]
}